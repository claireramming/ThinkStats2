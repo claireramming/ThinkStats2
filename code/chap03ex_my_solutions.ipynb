{
 "cells": [
  {
   "cell_type": "markdown",
   "metadata": {},
   "source": [
    "# Examples and Exercises from Think Stats, 2nd Edition\n",
    "\n",
    "http://thinkstats2.com\n",
    "\n",
    "Copyright 2016 Allen B. Downey\n",
    "\n",
    "MIT License: https://opensource.org/licenses/MIT\n"
   ]
  },
  {
   "cell_type": "code",
   "execution_count": 1,
   "metadata": {},
   "outputs": [],
   "source": [
    "from __future__ import print_function, division\n",
    "\n",
    "%matplotlib inline\n",
    "\n",
    "import numpy as np\n",
    "\n",
    "import nsfg\n",
    "import first\n",
    "import thinkstats2\n",
    "import thinkplot"
   ]
  },
  {
   "cell_type": "markdown",
   "metadata": {},
   "source": [
    "Again, I'll load the NSFG pregnancy file and select live births:"
   ]
  },
  {
   "cell_type": "code",
   "execution_count": 2,
   "metadata": {},
   "outputs": [],
   "source": [
    "preg = nsfg.ReadFemPreg()\n",
    "live = preg[preg.outcome == 1]"
   ]
  },
  {
   "cell_type": "markdown",
   "metadata": {},
   "source": [
    "Here's the histogram of birth weights:"
   ]
  },
  {
   "cell_type": "code",
   "execution_count": 3,
   "metadata": {},
   "outputs": [
    {
     "data": {
      "image/png": "[encoded data removed]",
      "text/plain": [
       "<matplotlib.figure.Figure at 0x111996668>"
      ]
     },
     "metadata": {},
     "output_type": "display_data"
    }
   ],
   "source": [
    "hist = thinkstats2.Hist(live.birthwgt_lb, label='birthwgt_lb')\n",
    "thinkplot.Hist(hist)\n",
    "thinkplot.Config(xlabel='Birth weight (pounds)', ylabel='Count')"
   ]
  },
  {
   "cell_type": "markdown",
   "metadata": {},
   "source": [
    "To normalize the disrtibution, we could divide through by the total count:"
   ]
  },
  {
   "cell_type": "code",
   "execution_count": 4,
   "metadata": {},
   "outputs": [],
   "source": [
    "n = hist.Total()\n",
    "pmf = hist.Copy()\n",
    "for x, freq in hist.Items():\n",
    "    pmf[x] = freq / n"
   ]
  },
  {
   "cell_type": "markdown",
   "metadata": {},
   "source": [
    "The result is a Probability Mass Function (PMF)."
   ]
  },
  {
   "cell_type": "code",
   "execution_count": 5,
   "metadata": {},
   "outputs": [
    {
     "data": {
      "image/png": "[encoded data removed]",
      "text/plain": [
       "<matplotlib.figure.Figure at 0x11e3163c8>"
      ]
     },
     "metadata": {},
     "output_type": "display_data"
    }
   ],
   "source": [
    "thinkplot.Hist(pmf)\n",
    "thinkplot.Config(xlabel='Birth weight (pounds)', ylabel='PMF')"
   ]
  },
  {
   "cell_type": "markdown",
   "metadata": {},
   "source": [
    "More directly, we can create a Pmf object."
   ]
  },
  {
   "cell_type": "code",
   "execution_count": 6,
   "metadata": {},
   "outputs": [
    {
     "data": {
      "text/plain": [
       "Pmf({1: 0.2, 2: 0.4, 3: 0.2, 5: 0.2})"
      ]
     },
     "execution_count": 6,
     "metadata": {},
     "output_type": "execute_result"
    }
   ],
   "source": [
    "pmf = thinkstats2.Pmf([1, 2, 2, 3, 5])\n",
    "pmf"
   ]
  },
  {
   "cell_type": "markdown",
   "metadata": {},
   "source": [
    "`Pmf` provides `Prob`, which looks up a value and returns its probability:"
   ]
  },
  {
   "cell_type": "code",
   "execution_count": 7,
   "metadata": {},
   "outputs": [
    {
     "data": {
      "text/plain": [
       "0.4"
      ]
     },
     "execution_count": 7,
     "metadata": {},
     "output_type": "execute_result"
    }
   ],
   "source": [
    "pmf.Prob(2)"
   ]
  },
  {
   "cell_type": "markdown",
   "metadata": {},
   "source": [
    "The bracket operator does the same thing."
   ]
  },
  {
   "cell_type": "code",
   "execution_count": 8,
   "metadata": {},
   "outputs": [
    {
     "data": {
      "text/plain": [
       "0.4"
      ]
     },
     "execution_count": 8,
     "metadata": {},
     "output_type": "execute_result"
    }
   ],
   "source": [
    "pmf[2]"
   ]
  },
  {
   "cell_type": "markdown",
   "metadata": {},
   "source": [
    "The `Incr` method adds to the probability associated with a given values."
   ]
  },
  {
   "cell_type": "code",
   "execution_count": 9,
   "metadata": {},
   "outputs": [
    {
     "data": {
      "text/plain": [
       "0.6000000000000001"
      ]
     },
     "execution_count": 9,
     "metadata": {},
     "output_type": "execute_result"
    }
   ],
   "source": [
    "pmf.Incr(2, 0.2)\n",
    "pmf[2]"
   ]
  },
  {
   "cell_type": "markdown",
   "metadata": {},
   "source": [
    "The `Mult` method multiplies the probability associated with a value."
   ]
  },
  {
   "cell_type": "code",
   "execution_count": 10,
   "metadata": {},
   "outputs": [
    {
     "data": {
      "text/plain": [
       "0.30000000000000004"
      ]
     },
     "execution_count": 10,
     "metadata": {},
     "output_type": "execute_result"
    }
   ],
   "source": [
    "pmf.Mult(2, 0.5)\n",
    "pmf[2]"
   ]
  },
  {
   "cell_type": "markdown",
   "metadata": {},
   "source": [
    "`Total` returns the total probability (which is no longer 1, because we changed one of the probabilities)."
   ]
  },
  {
   "cell_type": "code",
   "execution_count": 11,
   "metadata": {},
   "outputs": [
    {
     "data": {
      "text/plain": [
       "0.8999999999999999"
      ]
     },
     "execution_count": 11,
     "metadata": {},
     "output_type": "execute_result"
    }
   ],
   "source": [
    "pmf.Total()"
   ]
  },
  {
   "cell_type": "markdown",
   "metadata": {},
   "source": [
    "`Normalize` divides through by the total probability, making it 1 again."
   ]
  },
  {
   "cell_type": "code",
   "execution_count": 12,
   "metadata": {},
   "outputs": [
    {
     "data": {
      "text/plain": [
       "1.0"
      ]
     },
     "execution_count": 12,
     "metadata": {},
     "output_type": "execute_result"
    }
   ],
   "source": [
    "pmf.Normalize()\n",
    "pmf.Total()"
   ]
  },
  {
   "cell_type": "markdown",
   "metadata": {},
   "source": [
    "Here's the PMF of pregnancy length for live births."
   ]
  },
  {
   "cell_type": "code",
   "execution_count": 13,
   "metadata": {},
   "outputs": [],
   "source": [
    "pmf = thinkstats2.Pmf(live.prglngth, label='prglngth')"
   ]
  },
  {
   "cell_type": "markdown",
   "metadata": {},
   "source": [
    "Here's what it looks like plotted with `Hist`, which makes a bar graph."
   ]
  },
  {
   "cell_type": "code",
   "execution_count": 14,
   "metadata": {},
   "outputs": [
    {
     "data": {
      "image/png": "[encoded data removed]",
      "text/plain": [
       "<matplotlib.figure.Figure at 0x11e28fd68>"
      ]
     },
     "metadata": {},
     "output_type": "display_data"
    }
   ],
   "source": [
    "thinkplot.Hist(pmf)\n",
    "thinkplot.Config(xlabel='Pregnancy length (weeks)', ylabel='Pmf')"
   ]
  },
  {
   "cell_type": "markdown",
   "metadata": {},
   "source": [
    "Here's what it looks like plotted with `Pmf`, which makes a step function."
   ]
  },
  {
   "cell_type": "code",
   "execution_count": 15,
   "metadata": {},
   "outputs": [
    {
     "data": {
      "image/png": "[encoded data removed]",
      "text/plain": [
       "<matplotlib.figure.Figure at 0x11e0e4978>"
      ]
     },
     "metadata": {},
     "output_type": "display_data"
    }
   ],
   "source": [
    "thinkplot.Pmf(pmf)\n",
    "thinkplot.Config(xlabel='Pregnancy length (weeks)', ylabel='Pmf')"
   ]
  },
  {
   "cell_type": "markdown",
   "metadata": {},
   "source": [
    "We can use `MakeFrames` to return DataFrames for all live births, first babies, and others."
   ]
  },
  {
   "cell_type": "code",
   "execution_count": 16,
   "metadata": {
    "collapsed": true
   },
   "outputs": [],
   "source": [
    "live, firsts, others = first.MakeFrames()"
   ]
  },
  {
   "cell_type": "markdown",
   "metadata": {},
   "source": [
    "Here are the distributions of pregnancy length."
   ]
  },
  {
   "cell_type": "code",
   "execution_count": 17,
   "metadata": {
    "collapsed": true
   },
   "outputs": [],
   "source": [
    "first_pmf = thinkstats2.Pmf(firsts.prglngth, label='firsts')\n",
    "other_pmf = thinkstats2.Pmf(others.prglngth, label='others')"
   ]
  },
  {
   "cell_type": "markdown",
   "metadata": {},
   "source": [
    "And here's the code that replicates one of the figures in the chapter."
   ]
  },
  {
   "cell_type": "code",
   "execution_count": 18,
   "metadata": {},
   "outputs": [
    {
     "data": {
      "image/png": "[encoded data removed]",
      "text/plain": [
       "<matplotlib.figure.Figure at 0x11e0b2860>"
      ]
     },
     "metadata": {},
     "output_type": "display_data"
    }
   ],
   "source": [
    "width=0.45\n",
    "axis = [27, 46, 0, 0.6]\n",
    "thinkplot.PrePlot(2, cols=2)\n",
    "thinkplot.Hist(first_pmf, align='right', width=width)\n",
    "thinkplot.Hist(other_pmf, align='left', width=width)\n",
    "thinkplot.Config(xlabel='Pregnancy length(weeks)', ylabel='PMF', axis=axis)\n",
    "\n",
    "thinkplot.PrePlot(2)\n",
    "thinkplot.SubPlot(2)\n",
    "thinkplot.Pmfs([first_pmf, other_pmf])\n",
    "thinkplot.Config(xlabel='Pregnancy length(weeks)', axis=axis)"
   ]
  },
  {
   "cell_type": "markdown",
   "metadata": {},
   "source": [
    "Here's the code that generates a plot of the difference in probability (in percentage points) between first babies and others, for each week of pregnancy (showing only pregnancies considered \"full term\"). "
   ]
  },
  {
   "cell_type": "code",
   "execution_count": 19,
   "metadata": {},
   "outputs": [
    {
     "data": {
      "image/png": "[encoded data removed]",
      "text/plain": [
       "<matplotlib.figure.Figure at 0x11c879e10>"
      ]
     },
     "metadata": {},
     "output_type": "display_data"
    }
   ],
   "source": [
    "weeks = range(35, 46)\n",
    "diffs = []\n",
    "for week in weeks:\n",
    "    p1 = first_pmf.Prob(week)\n",
    "    p2 = other_pmf.Prob(week)\n",
    "    diff = 100 * (p1 - p2)\n",
    "    diffs.append(diff)\n",
    "\n",
    "thinkplot.Bar(weeks, diffs)\n",
    "thinkplot.Config(xlabel='Pregnancy length(weeks)', ylabel='Difference (percentage points)')\n"
   ]
  },
  {
   "cell_type": "markdown",
   "metadata": {},
   "source": [
    "### Biasing and unbiasing PMFs\n",
    "\n",
    "Here's the example in the book showing operations we can perform with `Pmf` objects.\n",
    "\n",
    "Suppose we have the following distribution of class sizes."
   ]
  },
  {
   "cell_type": "code",
   "execution_count": 20,
   "metadata": {},
   "outputs": [],
   "source": [
    "d = { 7: 8, 12: 8, 17: 14, 22: 4, \n",
    "     27: 6, 32: 12, 37: 8, 42: 3, 47: 2 }\n",
    "\n",
    "pmf = thinkstats2.Pmf(d, label='actual')"
   ]
  },
  {
   "cell_type": "markdown",
   "metadata": {},
   "source": [
    "This function computes the biased PMF we would get if we surveyed students and asked about the size of the classes they are in."
   ]
  },
  {
   "cell_type": "code",
   "execution_count": 21,
   "metadata": {
    "collapsed": true
   },
   "outputs": [],
   "source": [
    "def BiasPmf(pmf, label):\n",
    "    new_pmf = pmf.Copy(label=label)\n",
    "\n",
    "    for x, p in pmf.Items():\n",
    "        new_pmf.Mult(x, x)\n",
    "        \n",
    "    new_pmf.Normalize()\n",
    "    return new_pmf"
   ]
  },
  {
   "cell_type": "markdown",
   "metadata": {},
   "source": [
    "The following graph shows the difference between the actual and observed distributions."
   ]
  },
  {
   "cell_type": "code",
   "execution_count": 22,
   "metadata": {},
   "outputs": [
    {
     "data": {
      "image/png": "[encoded data removed]",
      "text/plain": [
       "<matplotlib.figure.Figure at 0x11e2a0b70>"
      ]
     },
     "metadata": {},
     "output_type": "display_data"
    }
   ],
   "source": [
    "biased_pmf = BiasPmf(pmf, label='observed')\n",
    "thinkplot.PrePlot(2)\n",
    "thinkplot.Pmfs([pmf, biased_pmf])\n",
    "thinkplot.Config(xlabel='Class size', ylabel='PMF')"
   ]
  },
  {
   "cell_type": "markdown",
   "metadata": {},
   "source": [
    "The observed mean is substantially higher than the actual."
   ]
  },
  {
   "cell_type": "code",
   "execution_count": 23,
   "metadata": {},
   "outputs": [
    {
     "name": "stdout",
     "output_type": "stream",
     "text": [
      "Actual mean 23.692307692307693\n",
      "Observed mean 29.123376623376625\n"
     ]
    }
   ],
   "source": [
    "print('Actual mean', pmf.Mean())\n",
    "print('Observed mean', biased_pmf.Mean())"
   ]
  },
  {
   "cell_type": "markdown",
   "metadata": {},
   "source": [
    "If we were only able to collect the biased sample, we could \"unbias\" it by applying the inverse operation."
   ]
  },
  {
   "cell_type": "code",
   "execution_count": 24,
   "metadata": {
    "collapsed": true
   },
   "outputs": [],
   "source": [
    "def UnbiasPmf(pmf, label=None):\n",
    "    new_pmf = pmf.Copy(label=label)\n",
    "\n",
    "    for x, p in pmf.Items():\n",
    "        new_pmf[x] *= 1/x\n",
    "        \n",
    "    new_pmf.Normalize()\n",
    "    return new_pmf"
   ]
  },
  {
   "cell_type": "markdown",
   "metadata": {},
   "source": [
    "We can unbias the biased PMF:"
   ]
  },
  {
   "cell_type": "code",
   "execution_count": 25,
   "metadata": {},
   "outputs": [
    {
     "name": "stdout",
     "output_type": "stream",
     "text": [
      "Unbiased mean 23.69230769230769\n"
     ]
    }
   ],
   "source": [
    "unbiased = UnbiasPmf(biased_pmf, label='unbiased')\n",
    "print('Unbiased mean', unbiased.Mean())"
   ]
  },
  {
   "cell_type": "markdown",
   "metadata": {},
   "source": [
    "And plot the two distributions to confirm they are the same."
   ]
  },
  {
   "cell_type": "code",
   "execution_count": 26,
   "metadata": {},
   "outputs": [
    {
     "data": {
      "image/png": "[encoded data removed]",
      "text/plain": [
       "<matplotlib.figure.Figure at 0x11e0d0dd8>"
      ]
     },
     "metadata": {},
     "output_type": "display_data"
    }
   ],
   "source": [
    "thinkplot.PrePlot(2)\n",
    "thinkplot.Pmfs([pmf, unbiased])\n",
    "thinkplot.Config(xlabel='Class size', ylabel='PMF')"
   ]
  },
  {
   "cell_type": "markdown",
   "metadata": {},
   "source": [
    "### Pandas indexing\n",
    "\n",
    "Here's an example of a small DataFrame."
   ]
  },
  {
   "cell_type": "code",
   "execution_count": 30,
   "metadata": {},
   "outputs": [
    {
     "data": {
      "text/html": [
       "<div>\n",
       "<style>\n",
       "    .dataframe thead tr:only-child th {\n",
       "        text-align: right;\n",
       "    }\n",
       "\n",
       "    .dataframe thead th {\n",
       "        text-align: left;\n",
       "    }\n",
       "\n",
       "    .dataframe tbody tr th {\n",
       "        vertical-align: top;\n",
       "    }\n",
       "</style>\n",
       "<table border=\"1\" class=\"dataframe\">\n",
       "  <thead>\n",
       "    <tr style=\"text-align: right;\">\n",
       "      <th></th>\n",
       "      <th>0</th>\n",
       "      <th>1</th>\n",
       "    </tr>\n",
       "  </thead>\n",
       "  <tbody>\n",
       "    <tr>\n",
       "      <th>0</th>\n",
       "      <td>0.688503</td>\n",
       "      <td>-0.453531</td>\n",
       "    </tr>\n",
       "    <tr>\n",
       "      <th>1</th>\n",
       "      <td>0.837872</td>\n",
       "      <td>-0.349064</td>\n",
       "    </tr>\n",
       "    <tr>\n",
       "      <th>2</th>\n",
       "      <td>-0.140012</td>\n",
       "      <td>-1.825005</td>\n",
       "    </tr>\n",
       "    <tr>\n",
       "      <th>3</th>\n",
       "      <td>0.395624</td>\n",
       "      <td>-1.701819</td>\n",
       "    </tr>\n",
       "  </tbody>\n",
       "</table>\n",
       "</div>"
      ],
      "text/plain": [
       "          0         1\n",
       "0  0.688503 -0.453531\n",
       "1  0.837872 -0.349064\n",
       "2 -0.140012 -1.825005\n",
       "3  0.395624 -1.701819"
      ]
     },
     "execution_count": 30,
     "metadata": {},
     "output_type": "execute_result"
    }
   ],
   "source": [
    "import numpy as np\n",
    "import pandas\n",
    "array = np.random.randn(4, 2)\n",
    "df = pandas.DataFrame(array)\n",
    "df"
   ]
  },
  {
   "cell_type": "markdown",
   "metadata": {},
   "source": [
    "We can specify column names when we create the DataFrame:"
   ]
  },
  {
   "cell_type": "code",
   "execution_count": 31,
   "metadata": {},
   "outputs": [
    {
     "data": {
      "text/html": [
       "<div>\n",
       "<style>\n",
       "    .dataframe thead tr:only-child th {\n",
       "        text-align: right;\n",
       "    }\n",
       "\n",
       "    .dataframe thead th {\n",
       "        text-align: left;\n",
       "    }\n",
       "\n",
       "    .dataframe tbody tr th {\n",
       "        vertical-align: top;\n",
       "    }\n",
       "</style>\n",
       "<table border=\"1\" class=\"dataframe\">\n",
       "  <thead>\n",
       "    <tr style=\"text-align: right;\">\n",
       "      <th></th>\n",
       "      <th>A</th>\n",
       "      <th>B</th>\n",
       "    </tr>\n",
       "  </thead>\n",
       "  <tbody>\n",
       "    <tr>\n",
       "      <th>0</th>\n",
       "      <td>0.688503</td>\n",
       "      <td>-0.453531</td>\n",
       "    </tr>\n",
       "    <tr>\n",
       "      <th>1</th>\n",
       "      <td>0.837872</td>\n",
       "      <td>-0.349064</td>\n",
       "    </tr>\n",
       "    <tr>\n",
       "      <th>2</th>\n",
       "      <td>-0.140012</td>\n",
       "      <td>-1.825005</td>\n",
       "    </tr>\n",
       "    <tr>\n",
       "      <th>3</th>\n",
       "      <td>0.395624</td>\n",
       "      <td>-1.701819</td>\n",
       "    </tr>\n",
       "  </tbody>\n",
       "</table>\n",
       "</div>"
      ],
      "text/plain": [
       "          A         B\n",
       "0  0.688503 -0.453531\n",
       "1  0.837872 -0.349064\n",
       "2 -0.140012 -1.825005\n",
       "3  0.395624 -1.701819"
      ]
     },
     "execution_count": 31,
     "metadata": {},
     "output_type": "execute_result"
    }
   ],
   "source": [
    "columns = ['A', 'B']\n",
    "df = pandas.DataFrame(array, columns=columns)\n",
    "df"
   ]
  },
  {
   "cell_type": "markdown",
   "metadata": {},
   "source": [
    "We can also specify an index that contains labels for the rows."
   ]
  },
  {
   "cell_type": "code",
   "execution_count": 32,
   "metadata": {},
   "outputs": [
    {
     "data": {
      "text/html": [
       "<div>\n",
       "<style>\n",
       "    .dataframe thead tr:only-child th {\n",
       "        text-align: right;\n",
       "    }\n",
       "\n",
       "    .dataframe thead th {\n",
       "        text-align: left;\n",
       "    }\n",
       "\n",
       "    .dataframe tbody tr th {\n",
       "        vertical-align: top;\n",
       "    }\n",
       "</style>\n",
       "<table border=\"1\" class=\"dataframe\">\n",
       "  <thead>\n",
       "    <tr style=\"text-align: right;\">\n",
       "      <th></th>\n",
       "      <th>A</th>\n",
       "      <th>B</th>\n",
       "    </tr>\n",
       "  </thead>\n",
       "  <tbody>\n",
       "    <tr>\n",
       "      <th>a</th>\n",
       "      <td>0.688503</td>\n",
       "      <td>-0.453531</td>\n",
       "    </tr>\n",
       "    <tr>\n",
       "      <th>b</th>\n",
       "      <td>0.837872</td>\n",
       "      <td>-0.349064</td>\n",
       "    </tr>\n",
       "    <tr>\n",
       "      <th>c</th>\n",
       "      <td>-0.140012</td>\n",
       "      <td>-1.825005</td>\n",
       "    </tr>\n",
       "    <tr>\n",
       "      <th>d</th>\n",
       "      <td>0.395624</td>\n",
       "      <td>-1.701819</td>\n",
       "    </tr>\n",
       "  </tbody>\n",
       "</table>\n",
       "</div>"
      ],
      "text/plain": [
       "          A         B\n",
       "a  0.688503 -0.453531\n",
       "b  0.837872 -0.349064\n",
       "c -0.140012 -1.825005\n",
       "d  0.395624 -1.701819"
      ]
     },
     "execution_count": 32,
     "metadata": {},
     "output_type": "execute_result"
    }
   ],
   "source": [
    "index = ['a', 'b', 'c', 'd']\n",
    "df = pandas.DataFrame(array, columns=columns, index=index)\n",
    "df"
   ]
  },
  {
   "cell_type": "markdown",
   "metadata": {},
   "source": [
    "Normal indexing selects columns."
   ]
  },
  {
   "cell_type": "code",
   "execution_count": 33,
   "metadata": {},
   "outputs": [
    {
     "data": {
      "text/plain": [
       "a    0.688503\n",
       "b    0.837872\n",
       "c   -0.140012\n",
       "d    0.395624\n",
       "Name: A, dtype: float64"
      ]
     },
     "execution_count": 33,
     "metadata": {},
     "output_type": "execute_result"
    }
   ],
   "source": [
    "df['A']"
   ]
  },
  {
   "cell_type": "markdown",
   "metadata": {},
   "source": [
    "We can use the `loc` attribute to select rows."
   ]
  },
  {
   "cell_type": "code",
   "execution_count": 34,
   "metadata": {},
   "outputs": [
    {
     "data": {
      "text/plain": [
       "A    0.688503\n",
       "B   -0.453531\n",
       "Name: a, dtype: float64"
      ]
     },
     "execution_count": 34,
     "metadata": {},
     "output_type": "execute_result"
    }
   ],
   "source": [
    "df.loc['a']"
   ]
  },
  {
   "cell_type": "markdown",
   "metadata": {},
   "source": [
    "If you don't want to use the row labels and prefer to access the rows using integer indices, you can use the `iloc` attribute:"
   ]
  },
  {
   "cell_type": "code",
   "execution_count": 35,
   "metadata": {},
   "outputs": [
    {
     "data": {
      "text/plain": [
       "A    0.688503\n",
       "B   -0.453531\n",
       "Name: a, dtype: float64"
      ]
     },
     "execution_count": 35,
     "metadata": {},
     "output_type": "execute_result"
    }
   ],
   "source": [
    "df.iloc[0]"
   ]
  },
  {
   "cell_type": "markdown",
   "metadata": {},
   "source": [
    "`loc` can also take a list of labels."
   ]
  },
  {
   "cell_type": "code",
   "execution_count": 36,
   "metadata": {},
   "outputs": [
    {
     "data": {
      "text/html": [
       "<div>\n",
       "<style>\n",
       "    .dataframe thead tr:only-child th {\n",
       "        text-align: right;\n",
       "    }\n",
       "\n",
       "    .dataframe thead th {\n",
       "        text-align: left;\n",
       "    }\n",
       "\n",
       "    .dataframe tbody tr th {\n",
       "        vertical-align: top;\n",
       "    }\n",
       "</style>\n",
       "<table border=\"1\" class=\"dataframe\">\n",
       "  <thead>\n",
       "    <tr style=\"text-align: right;\">\n",
       "      <th></th>\n",
       "      <th>A</th>\n",
       "      <th>B</th>\n",
       "    </tr>\n",
       "  </thead>\n",
       "  <tbody>\n",
       "    <tr>\n",
       "      <th>a</th>\n",
       "      <td>0.688503</td>\n",
       "      <td>-0.453531</td>\n",
       "    </tr>\n",
       "    <tr>\n",
       "      <th>c</th>\n",
       "      <td>-0.140012</td>\n",
       "      <td>-1.825005</td>\n",
       "    </tr>\n",
       "  </tbody>\n",
       "</table>\n",
       "</div>"
      ],
      "text/plain": [
       "          A         B\n",
       "a  0.688503 -0.453531\n",
       "c -0.140012 -1.825005"
      ]
     },
     "execution_count": 36,
     "metadata": {},
     "output_type": "execute_result"
    }
   ],
   "source": [
    "indices = ['a', 'c']\n",
    "df.loc[indices]"
   ]
  },
  {
   "cell_type": "markdown",
   "metadata": {},
   "source": [
    "If you provide a slice of labels, `DataFrame` uses it to select rows."
   ]
  },
  {
   "cell_type": "code",
   "execution_count": 37,
   "metadata": {},
   "outputs": [
    {
     "data": {
      "text/html": [
       "<div>\n",
       "<style>\n",
       "    .dataframe thead tr:only-child th {\n",
       "        text-align: right;\n",
       "    }\n",
       "\n",
       "    .dataframe thead th {\n",
       "        text-align: left;\n",
       "    }\n",
       "\n",
       "    .dataframe tbody tr th {\n",
       "        vertical-align: top;\n",
       "    }\n",
       "</style>\n",
       "<table border=\"1\" class=\"dataframe\">\n",
       "  <thead>\n",
       "    <tr style=\"text-align: right;\">\n",
       "      <th></th>\n",
       "      <th>A</th>\n",
       "      <th>B</th>\n",
       "    </tr>\n",
       "  </thead>\n",
       "  <tbody>\n",
       "    <tr>\n",
       "      <th>a</th>\n",
       "      <td>0.688503</td>\n",
       "      <td>-0.453531</td>\n",
       "    </tr>\n",
       "    <tr>\n",
       "      <th>b</th>\n",
       "      <td>0.837872</td>\n",
       "      <td>-0.349064</td>\n",
       "    </tr>\n",
       "    <tr>\n",
       "      <th>c</th>\n",
       "      <td>-0.140012</td>\n",
       "      <td>-1.825005</td>\n",
       "    </tr>\n",
       "  </tbody>\n",
       "</table>\n",
       "</div>"
      ],
      "text/plain": [
       "          A         B\n",
       "a  0.688503 -0.453531\n",
       "b  0.837872 -0.349064\n",
       "c -0.140012 -1.825005"
      ]
     },
     "execution_count": 37,
     "metadata": {},
     "output_type": "execute_result"
    }
   ],
   "source": [
    "df['a':'c']"
   ]
  },
  {
   "cell_type": "markdown",
   "metadata": {},
   "source": [
    "If you provide a slice of integers, `DataFrame` selects rows by integer index."
   ]
  },
  {
   "cell_type": "code",
   "execution_count": 38,
   "metadata": {},
   "outputs": [
    {
     "data": {
      "text/html": [
       "<div>\n",
       "<style>\n",
       "    .dataframe thead tr:only-child th {\n",
       "        text-align: right;\n",
       "    }\n",
       "\n",
       "    .dataframe thead th {\n",
       "        text-align: left;\n",
       "    }\n",
       "\n",
       "    .dataframe tbody tr th {\n",
       "        vertical-align: top;\n",
       "    }\n",
       "</style>\n",
       "<table border=\"1\" class=\"dataframe\">\n",
       "  <thead>\n",
       "    <tr style=\"text-align: right;\">\n",
       "      <th></th>\n",
       "      <th>A</th>\n",
       "      <th>B</th>\n",
       "    </tr>\n",
       "  </thead>\n",
       "  <tbody>\n",
       "    <tr>\n",
       "      <th>a</th>\n",
       "      <td>0.688503</td>\n",
       "      <td>-0.453531</td>\n",
       "    </tr>\n",
       "    <tr>\n",
       "      <th>b</th>\n",
       "      <td>0.837872</td>\n",
       "      <td>-0.349064</td>\n",
       "    </tr>\n",
       "  </tbody>\n",
       "</table>\n",
       "</div>"
      ],
      "text/plain": [
       "          A         B\n",
       "a  0.688503 -0.453531\n",
       "b  0.837872 -0.349064"
      ]
     },
     "execution_count": 38,
     "metadata": {},
     "output_type": "execute_result"
    }
   ],
   "source": [
    "df[0:2]"
   ]
  },
  {
   "cell_type": "markdown",
   "metadata": {},
   "source": [
    "But notice that one method includes the last elements of the slice and one does not.\n",
    "\n",
    "In general, I recommend giving labels to the rows and names to the columns, and using them consistently."
   ]
  },
  {
   "cell_type": "markdown",
   "metadata": {
    "collapsed": true
   },
   "source": [
    "## Exercises"
   ]
  },
  {
   "cell_type": "markdown",
   "metadata": {},
   "source": [
    "**Exercise:** Something like the class size paradox appears if you survey children and ask how many children are in their family. Families with many children are more likely to appear in your sample, and families with no children have no chance to be in the sample.\n",
    "\n",
    "Use the NSFG respondent variable `numkdhh` to construct the actual distribution for the number of children under 18 in the respondents' households.\n",
    "\n",
    "Now compute the biased distribution we would see if we surveyed the children and asked them how many children under 18 (including themselves) are in their household.\n",
    "\n",
    "Plot the actual and biased distributions, and compute their means."
   ]
  },
  {
   "cell_type": "code",
   "execution_count": 40,
   "metadata": {},
   "outputs": [],
   "source": [
    "resp = nsfg.ReadFemResp()"
   ]
  },
  {
   "cell_type": "code",
   "execution_count": 44,
   "metadata": {},
   "outputs": [
    {
     "name": "stdout",
     "output_type": "stream",
     "text": [
      "1.02420515504 2.40367910066\n"
     ]
    },
    {
     "data": {
      "image/png": "[encoded data removed]",
      "text/plain": [
       "<matplotlib.figure.Figure at 0x12bbfc550>"
      ]
     },
     "metadata": {},
     "output_type": "display_data"
    }
   ],
   "source": [
    "# Solution goes here\n",
    "pmf = thinkstats2.Pmf(resp.numkdhh, label='actual')\n",
    "biased_pmf = BiasPmf(pmf, label='observed')\n",
    "thinkplot.PrePlot(2)\n",
    "thinkplot.Pmfs([pmf, biased_pmf])\n",
    "thinkplot.Config(xlabel='# Kids under 18 in Household', ylabel='PMF')\n",
    "print(pmf.Mean(), biased_pmf.Mean())"
   ]
  },
  {
   "cell_type": "markdown",
   "metadata": {},
   "source": [
    "**Exercise:** I started this book with the question, \"Are first babies more likely to be late?\" To address it, I computed the difference in means between groups of babies, but I ignored the possibility that there might be a difference between first babies and others for the same woman.\n",
    "\n",
    "To address this version of the question, select respondents who have at least two live births and compute pairwise differences. Does this formulation of the question yield a different result?\n",
    "\n",
    "Hint: use `nsfg.MakePregMap`:"
   ]
  },
  {
   "cell_type": "code",
   "execution_count": 48,
   "metadata": {},
   "outputs": [],
   "source": [
    "live, firsts, others = first.MakeFrames()"
   ]
  },
  {
   "cell_type": "code",
   "execution_count": 49,
   "metadata": {
    "collapsed": true
   },
   "outputs": [],
   "source": [
    "preg_map = nsfg.MakePregMap(live)"
   ]
  },
  {
   "cell_type": "code",
   "execution_count": 51,
   "metadata": {},
   "outputs": [
    {
     "data": {
      "text/plain": [
       "defaultdict(list,\n",
       "            {1: [0, 1],\n",
       "             2: [2, 3, 4],\n",
       "             6: [5, 6, 7],\n",
       "             7: [8, 9],\n",
       "             12: [10],\n",
       "             14: [11, 12],\n",
       "             15: [15, 16],\n",
       "             18: [17],\n",
       "             21: [19, 20],\n",
       "             23: [21],\n",
       "             24: [23, 24, 25],\n",
       "             28: [26],\n",
       "             31: [27, 28, 29],\n",
       "             36: [31],\n",
       "             38: [32, 33, 34],\n",
       "             39: [35],\n",
       "             44: [39, 40],\n",
       "             46: [42, 43],\n",
       "             49: [44, 47],\n",
       "             51: [48, 49],\n",
       "             57: [52, 53, 54],\n",
       "             60: [55, 56],\n",
       "             63: [58, 59],\n",
       "             69: [60],\n",
       "             70: [62, 64],\n",
       "             71: [65],\n",
       "             72: [67],\n",
       "             73: [68, 69],\n",
       "             77: [70, 71],\n",
       "             80: [72, 74, 75, 76],\n",
       "             81: [77],\n",
       "             86: [78, 79, 80],\n",
       "             90: [82],\n",
       "             91: [83, 87, 88, 89],\n",
       "             92: [90, 91, 92],\n",
       "             95: [94],\n",
       "             101: [95, 96],\n",
       "             106: [97, 98, 99],\n",
       "             114: [100],\n",
       "             115: [101],\n",
       "             118: [104, 105, 106],\n",
       "             119: [107, 108],\n",
       "             123: [110],\n",
       "             132: [113],\n",
       "             135: [114],\n",
       "             138: [115],\n",
       "             139: [116, 117],\n",
       "             142: [118, 119, 120, 121],\n",
       "             145: [124, 126, 127, 129],\n",
       "             149: [130, 131, 132],\n",
       "             150: [133, 134, 135, 136, 137, 138],\n",
       "             151: [139],\n",
       "             152: [140, 142, 143],\n",
       "             153: [147, 148],\n",
       "             156: [149],\n",
       "             159: [150, 151],\n",
       "             160: [154, 155, 156],\n",
       "             172: [157, 158, 159],\n",
       "             173: [160],\n",
       "             176: [161, 162],\n",
       "             181: [163, 164],\n",
       "             183: [165, 166],\n",
       "             184: [167],\n",
       "             186: [168, 169],\n",
       "             190: [170, 171, 172, 174],\n",
       "             193: [175, 176],\n",
       "             209: [178],\n",
       "             210: [180, 181, 182],\n",
       "             213: [184, 185],\n",
       "             215: [186, 187],\n",
       "             218: [188, 190],\n",
       "             219: [191],\n",
       "             222: [193],\n",
       "             227: [204, 205],\n",
       "             230: [206, 207],\n",
       "             234: [208, 209],\n",
       "             235: [210],\n",
       "             238: [211],\n",
       "             244: [212, 213, 214],\n",
       "             245: [215, 216],\n",
       "             246: [217, 218, 219, 220],\n",
       "             247: [222],\n",
       "             248: [223, 224, 225],\n",
       "             249: [226, 228],\n",
       "             251: [229, 230],\n",
       "             252: [233, 234],\n",
       "             253: [237, 238],\n",
       "             254: [239, 240, 241],\n",
       "             255: [245, 246],\n",
       "             256: [247, 248, 249],\n",
       "             259: [251, 252],\n",
       "             263: [253, 256],\n",
       "             269: [258, 259, 260, 261],\n",
       "             275: [262],\n",
       "             277: [263, 264, 265],\n",
       "             278: [267, 268, 269, 270, 271, 272, 273],\n",
       "             281: [274, 275, 276],\n",
       "             284: [277, 278, 279, 280, 281],\n",
       "             285: [282],\n",
       "             287: [285, 286, 287],\n",
       "             288: [288, 289, 290],\n",
       "             299: [299],\n",
       "             300: [305],\n",
       "             302: [306],\n",
       "             309: [311, 313],\n",
       "             314: [314, 315, 316, 317, 318],\n",
       "             315: [321, 322],\n",
       "             319: [323, 324, 325, 326],\n",
       "             320: [327, 328, 329],\n",
       "             324: [330, 334],\n",
       "             325: [335, 336],\n",
       "             327: [338],\n",
       "             328: [339, 340],\n",
       "             334: [341, 343, 346],\n",
       "             336: [347, 348, 349],\n",
       "             340: [350, 351, 352, 353],\n",
       "             343: [354, 356],\n",
       "             344: [357, 358],\n",
       "             348: [359, 360, 361],\n",
       "             349: [362, 363],\n",
       "             350: [365, 366, 367],\n",
       "             354: [368, 369],\n",
       "             356: [370, 371],\n",
       "             357: [374],\n",
       "             361: [375],\n",
       "             362: [377, 378],\n",
       "             364: [380],\n",
       "             365: [381, 382, 383, 384],\n",
       "             368: [385, 386, 388],\n",
       "             372: [389, 392, 393],\n",
       "             374: [395],\n",
       "             379: [398, 399],\n",
       "             382: [402],\n",
       "             383: [404, 405],\n",
       "             385: [408, 409, 410],\n",
       "             390: [411, 413],\n",
       "             403: [416],\n",
       "             407: [419],\n",
       "             408: [421],\n",
       "             413: [423, 428, 429],\n",
       "             415: [433, 435, 436, 437],\n",
       "             416: [438],\n",
       "             418: [440, 441],\n",
       "             419: [443, 444],\n",
       "             420: [447, 448],\n",
       "             425: [451],\n",
       "             427: [452],\n",
       "             429: [455],\n",
       "             432: [458],\n",
       "             434: [459],\n",
       "             437: [461],\n",
       "             438: [463, 464, 465, 466],\n",
       "             442: [468],\n",
       "             444: [470, 473, 474],\n",
       "             445: [475],\n",
       "             451: [477, 478],\n",
       "             455: [481],\n",
       "             457: [485],\n",
       "             459: [487, 488, 489],\n",
       "             465: [492, 493],\n",
       "             468: [496],\n",
       "             472: [497],\n",
       "             473: [498, 499, 500],\n",
       "             478: [501, 502],\n",
       "             479: [503, 504],\n",
       "             480: [505],\n",
       "             481: [506, 507, 508, 509, 510, 511, 512],\n",
       "             491: [514, 515],\n",
       "             494: [517, 518],\n",
       "             497: [520],\n",
       "             505: [521, 523],\n",
       "             506: [524, 525],\n",
       "             509: [527, 528, 529],\n",
       "             510: [530, 532],\n",
       "             512: [534],\n",
       "             514: [535, 536],\n",
       "             515: [540, 541, 542],\n",
       "             519: [543],\n",
       "             520: [546, 547, 548],\n",
       "             522: [549],\n",
       "             523: [550, 551, 552],\n",
       "             530: [554, 556],\n",
       "             535: [559],\n",
       "             539: [561],\n",
       "             540: [562, 563, 564, 565],\n",
       "             541: [566],\n",
       "             542: [567, 570],\n",
       "             548: [573],\n",
       "             551: [574, 576],\n",
       "             552: [577, 578],\n",
       "             553: [579, 580],\n",
       "             555: [582],\n",
       "             556: [583],\n",
       "             560: [584, 585],\n",
       "             562: [590],\n",
       "             564: [591, 592],\n",
       "             567: [594, 595],\n",
       "             571: [597, 598],\n",
       "             572: [599, 601],\n",
       "             573: [602, 603],\n",
       "             574: [606, 609, 610],\n",
       "             576: [613],\n",
       "             578: [614],\n",
       "             580: [615, 616],\n",
       "             581: [617, 618, 619, 620],\n",
       "             586: [624, 625, 626, 627],\n",
       "             587: [628, 629],\n",
       "             589: [630, 631, 633],\n",
       "             590: [634, 635],\n",
       "             591: [636],\n",
       "             595: [639, 640, 641],\n",
       "             596: [642],\n",
       "             599: [644],\n",
       "             600: [645],\n",
       "             601: [647, 648, 649, 650, 651],\n",
       "             602: [656],\n",
       "             606: [657, 658, 659, 660, 661],\n",
       "             607: [662, 663],\n",
       "             609: [664, 665],\n",
       "             620: [668],\n",
       "             622: [669],\n",
       "             623: [671],\n",
       "             627: [672],\n",
       "             628: [673, 674],\n",
       "             632: [676, 677],\n",
       "             635: [680, 681, 682, 683, 684, 685, 687, 688],\n",
       "             637: [689, 690, 691],\n",
       "             642: [693, 694, 695],\n",
       "             652: [697],\n",
       "             653: [699, 700],\n",
       "             656: [703, 704],\n",
       "             657: [705, 706, 707],\n",
       "             659: [708, 709, 710],\n",
       "             663: [713],\n",
       "             664: [714, 715],\n",
       "             665: [716, 717],\n",
       "             668: [719, 720],\n",
       "             671: [721],\n",
       "             676: [725],\n",
       "             678: [726],\n",
       "             679: [727, 728],\n",
       "             681: [730],\n",
       "             684: [731, 732],\n",
       "             685: [734],\n",
       "             686: [738, 739],\n",
       "             689: [741, 742],\n",
       "             693: [743, 744, 745, 746],\n",
       "             695: [747, 749],\n",
       "             701: [751, 753, 754, 755],\n",
       "             702: [756, 757, 760, 761, 762, 763],\n",
       "             704: [764],\n",
       "             706: [765],\n",
       "             707: [766, 767, 768, 769, 770],\n",
       "             708: [772, 774],\n",
       "             710: [776, 777, 778],\n",
       "             711: [779],\n",
       "             712: [780, 781, 782],\n",
       "             714: [784],\n",
       "             723: [785, 786],\n",
       "             724: [792],\n",
       "             732: [793, 794],\n",
       "             734: [795, 796],\n",
       "             737: [798, 799, 800],\n",
       "             739: [802],\n",
       "             743: [804, 805, 807],\n",
       "             745: [808, 809, 810, 811, 812],\n",
       "             750: [813, 814],\n",
       "             752: [816, 817],\n",
       "             755: [819],\n",
       "             756: [822, 823, 824],\n",
       "             758: [826, 828],\n",
       "             759: [829, 830],\n",
       "             760: [832, 833],\n",
       "             768: [841],\n",
       "             772: [842],\n",
       "             775: [845],\n",
       "             776: [846, 847],\n",
       "             778: [848],\n",
       "             781: [850],\n",
       "             782: [851, 853],\n",
       "             784: [854, 855, 856],\n",
       "             785: [857],\n",
       "             786: [859],\n",
       "             787: [861],\n",
       "             788: [863],\n",
       "             789: [864],\n",
       "             790: [866, 867, 868],\n",
       "             792: [869],\n",
       "             796: [870, 871, 872, 873, 874],\n",
       "             804: [877, 878],\n",
       "             805: [879, 880, 881, 882],\n",
       "             808: [885, 887],\n",
       "             810: [888],\n",
       "             811: [889, 890, 891],\n",
       "             814: [893, 894, 895],\n",
       "             816: [896, 897],\n",
       "             820: [900, 901, 902, 903],\n",
       "             822: [905],\n",
       "             826: [907],\n",
       "             827: [909, 910, 911],\n",
       "             829: [912, 913],\n",
       "             830: [914, 915, 916],\n",
       "             832: [917, 919],\n",
       "             835: [924],\n",
       "             836: [925, 926],\n",
       "             843: [928, 929],\n",
       "             844: [931, 932, 933, 934, 935],\n",
       "             845: [936, 937, 938, 939, 940, 941],\n",
       "             847: [944, 945],\n",
       "             848: [946, 947, 948, 949],\n",
       "             849: [950, 951, 952, 953],\n",
       "             852: [956, 957, 958, 959],\n",
       "             854: [960, 961, 962],\n",
       "             859: [963, 964],\n",
       "             861: [965, 967, 968],\n",
       "             862: [969, 970],\n",
       "             863: [971, 972, 973],\n",
       "             865: [978, 979, 980, 981],\n",
       "             867: [982, 983],\n",
       "             868: [984, 985],\n",
       "             872: [987, 988, 989, 990],\n",
       "             874: [991, 992],\n",
       "             876: [994],\n",
       "             877: [998, 1000],\n",
       "             880: [1002],\n",
       "             881: [1003, 1004],\n",
       "             882: [1006, 1007, 1009],\n",
       "             884: [1010, 1011],\n",
       "             886: [1013],\n",
       "             890: [1016],\n",
       "             895: [1017, 1018],\n",
       "             897: [1021, 1022],\n",
       "             899: [1023, 1024],\n",
       "             900: [1025],\n",
       "             901: [1027, 1028, 1029, 1030],\n",
       "             904: [1031, 1032],\n",
       "             910: [1034],\n",
       "             917: [1035],\n",
       "             918: [1036, 1037],\n",
       "             921: [1038, 1039],\n",
       "             928: [1041],\n",
       "             929: [1042, 1044],\n",
       "             930: [1045, 1046],\n",
       "             932: [1048, 1050],\n",
       "             943: [1056],\n",
       "             945: [1057],\n",
       "             947: [1060, 1061],\n",
       "             948: [1062, 1063],\n",
       "             953: [1065, 1066],\n",
       "             954: [1067, 1068, 1070],\n",
       "             959: [1075],\n",
       "             960: [1076],\n",
       "             961: [1077, 1078, 1079, 1080],\n",
       "             966: [1081, 1082, 1083],\n",
       "             967: [1084],\n",
       "             969: [1089, 1090],\n",
       "             971: [1091, 1092],\n",
       "             972: [1094, 1095, 1096],\n",
       "             974: [1097],\n",
       "             980: [1098, 1100, 1102],\n",
       "             984: [1103, 1104],\n",
       "             985: [1105],\n",
       "             989: [1112, 1113, 1114],\n",
       "             990: [1115, 1116],\n",
       "             992: [1118],\n",
       "             996: [1119, 1120],\n",
       "             997: [1121, 1122],\n",
       "             999: [1125],\n",
       "             1000: [1126, 1127, 1129],\n",
       "             1004: [1130],\n",
       "             1005: [1131],\n",
       "             1007: [1133, 1134],\n",
       "             1015: [1139, 1140],\n",
       "             1016: [1142, 1144],\n",
       "             1017: [1145, 1147, 1148],\n",
       "             1025: [1149],\n",
       "             1026: [1151],\n",
       "             1028: [1152],\n",
       "             1029: [1156],\n",
       "             1031: [1160, 1161],\n",
       "             1040: [1163],\n",
       "             1042: [1165, 1166, 1167, 1168, 1169],\n",
       "             1044: [1172, 1173],\n",
       "             1058: [1177, 1178, 1179, 1180, 1181],\n",
       "             1060: [1182],\n",
       "             1061: [1184, 1185],\n",
       "             1062: [1186, 1187, 1188],\n",
       "             1063: [1192],\n",
       "             1064: [1193],\n",
       "             1068: [1194, 1195, 1196],\n",
       "             1069: [1197],\n",
       "             1070: [1198],\n",
       "             1075: [1200, 1203],\n",
       "             1077: [1205],\n",
       "             1084: [1208, 1209],\n",
       "             1086: [1210, 1212, 1213, 1214, 1215],\n",
       "             1087: [1217],\n",
       "             1088: [1218, 1219, 1220],\n",
       "             1089: [1222, 1226],\n",
       "             1090: [1228],\n",
       "             1091: [1229, 1231],\n",
       "             1092: [1233, 1235],\n",
       "             1094: [1236],\n",
       "             1095: [1237],\n",
       "             1098: [1238],\n",
       "             1099: [1240],\n",
       "             1100: [1242, 1243, 1244],\n",
       "             1101: [1245, 1246, 1247],\n",
       "             1107: [1251],\n",
       "             1113: [1253, 1256],\n",
       "             1115: [1257],\n",
       "             1120: [1258, 1259],\n",
       "             1121: [1260, 1262],\n",
       "             1122: [1263],\n",
       "             1123: [1265],\n",
       "             1131: [1271, 1272, 1273],\n",
       "             1134: [1274, 1276],\n",
       "             1138: [1277, 1278, 1279],\n",
       "             1139: [1280],\n",
       "             1140: [1281],\n",
       "             1145: [1282],\n",
       "             1147: [1284, 1285],\n",
       "             1151: [1286, 1287, 1288],\n",
       "             1153: [1289, 1290, 1291],\n",
       "             1159: [1293],\n",
       "             1160: [1294, 1295, 1296],\n",
       "             1161: [1297, 1298],\n",
       "             1164: [1299],\n",
       "             1165: [1302],\n",
       "             1166: [1305],\n",
       "             1167: [1307],\n",
       "             1169: [1309,\n",
       "              1310,\n",
       "              1311,\n",
       "              1312,\n",
       "              1314,\n",
       "              1315,\n",
       "              1316,\n",
       "              1317,\n",
       "              1318,\n",
       "              1319],\n",
       "             1171: [1320, 1321],\n",
       "             1172: [1324],\n",
       "             1176: [1327, 1328, 1329],\n",
       "             1185: [1330, 1332],\n",
       "             1190: [1333, 1335],\n",
       "             1191: [1337, 1338, 1339],\n",
       "             1197: [1343],\n",
       "             1203: [1344, 1345],\n",
       "             1204: [1346, 1347, 1348],\n",
       "             1209: [1350, 1351, 1352],\n",
       "             1210: [1353, 1354, 1355],\n",
       "             1211: [1357, 1359],\n",
       "             1214: [1365, 1366, 1367, 1368, 1370],\n",
       "             1217: [1372],\n",
       "             1218: [1373],\n",
       "             1219: [1376, 1377, 1378],\n",
       "             1223: [1379, 1380],\n",
       "             1226: [1381],\n",
       "             1236: [1384, 1385, 1386],\n",
       "             1237: [1388, 1389],\n",
       "             1239: [1390, 1391],\n",
       "             1241: [1393],\n",
       "             1242: [1395],\n",
       "             1244: [1397, 1399],\n",
       "             1246: [1400, 1401],\n",
       "             1251: [1403, 1404, 1405],\n",
       "             1258: [1408, 1409],\n",
       "             1261: [1412, 1413],\n",
       "             1264: [1414, 1415],\n",
       "             1265: [1416, 1418, 1419],\n",
       "             1268: [1421, 1422],\n",
       "             1275: [1426, 1428],\n",
       "             1277: [1429, 1431, 1433],\n",
       "             1279: [1435, 1436, 1437],\n",
       "             1280: [1439, 1440, 1441, 1443],\n",
       "             1282: [1444, 1445],\n",
       "             1283: [1446, 1447],\n",
       "             1284: [1449, 1450, 1451],\n",
       "             1286: [1452],\n",
       "             1288: [1453, 1455],\n",
       "             1292: [1456, 1457, 1458],\n",
       "             1295: [1460, 1461, 1462, 1463],\n",
       "             1296: [1466, 1467],\n",
       "             1298: [1468],\n",
       "             1302: [1469],\n",
       "             1305: [1473, 1474, 1475],\n",
       "             1307: [1477],\n",
       "             1309: [1481, 1482],\n",
       "             1311: [1483, 1484],\n",
       "             1314: [1485, 1486, 1488],\n",
       "             1315: [1489, 1490],\n",
       "             1319: [1492],\n",
       "             1321: [1494, 1495],\n",
       "             1333: [1496, 1498, 1499],\n",
       "             1338: [1500, 1501, 1502],\n",
       "             1339: [1503, 1504, 1505],\n",
       "             1342: [1507, 1509],\n",
       "             1344: [1511],\n",
       "             1346: [1513, 1515],\n",
       "             1349: [1516, 1518, 1519],\n",
       "             1351: [1520, 1521, 1522, 1523],\n",
       "             1353: [1524],\n",
       "             1359: [1526, 1527, 1529],\n",
       "             1362: [1532, 1534],\n",
       "             1366: [1538, 1539, 1540, 1542],\n",
       "             1373: [1543, 1544],\n",
       "             1384: [1549, 1550, 1551, 1552],\n",
       "             1386: [1553],\n",
       "             1388: [1554, 1555, 1556],\n",
       "             1391: [1557],\n",
       "             1393: [1559, 1560, 1561, 1562],\n",
       "             1396: [1563, 1565, 1566],\n",
       "             1397: [1567, 1568, 1569, 1570],\n",
       "             1398: [1571],\n",
       "             1399: [1572, 1573, 1574, 1575],\n",
       "             1401: [1576, 1577],\n",
       "             1403: [1578, 1579],\n",
       "             1404: [1580],\n",
       "             1405: [1581, 1582],\n",
       "             1406: [1584],\n",
       "             1408: [1585],\n",
       "             1409: [1586],\n",
       "             1410: [1589, 1590, 1591],\n",
       "             1411: [1593, 1594, 1595, 1596],\n",
       "             1414: [1597, 1598, 1599, 1600],\n",
       "             1415: [1601, 1602],\n",
       "             1417: [1605],\n",
       "             1425: [1606],\n",
       "             1426: [1609, 1610],\n",
       "             1432: [1612, 1613],\n",
       "             1434: [1617, 1618, 1619],\n",
       "             1435: [1620, 1621],\n",
       "             1436: [1622, 1623],\n",
       "             1438: [1624],\n",
       "             1440: [1625, 1626, 1627, 1628],\n",
       "             1442: [1629, 1632],\n",
       "             1443: [1633, 1635, 1636, 1637, 1638],\n",
       "             1446: [1639, 1640, 1641],\n",
       "             1447: [1642, 1643],\n",
       "             1448: [1644],\n",
       "             1455: [1645],\n",
       "             1460: [1648, 1649],\n",
       "             1465: [1650, 1652, 1654],\n",
       "             1466: [1655, 1657, 1658, 1659],\n",
       "             1474: [1660],\n",
       "             1476: [1662, 1663],\n",
       "             1477: [1666],\n",
       "             1478: [1668],\n",
       "             1481: [1669, 1670],\n",
       "             1491: [1672, 1673, 1674, 1675],\n",
       "             1493: [1676, 1677],\n",
       "             1494: [1678, 1679, 1680],\n",
       "             1503: [1681, 1682],\n",
       "             1507: [1688],\n",
       "             1510: [1689],\n",
       "             1511: [1690, 1691, 1692],\n",
       "             1512: [1693, 1694],\n",
       "             1513: [1695, 1696],\n",
       "             1515: [1699],\n",
       "             1516: [1700, 1701],\n",
       "             1518: [1703, 1704, 1705, 1706],\n",
       "             1527: [1709, 1710, 1711, 1712],\n",
       "             1535: [1716],\n",
       "             1538: [1719, 1720],\n",
       "             1539: [1721],\n",
       "             1541: [1722, 1723],\n",
       "             1542: [1724, 1725],\n",
       "             1545: [1726, 1727],\n",
       "             1547: [1728],\n",
       "             1548: [1729],\n",
       "             1549: [1731, 1733, 1734],\n",
       "             1555: [1738, 1739],\n",
       "             1556: [1740, 1741],\n",
       "             1558: [1742],\n",
       "             1560: [1743],\n",
       "             1561: [1744, 1745],\n",
       "             1565: [1746, 1747],\n",
       "             1568: [1748],\n",
       "             1570: [1749, 1750],\n",
       "             1571: [1751],\n",
       "             1572: [1752, 1754],\n",
       "             1575: [1756, 1757, 1758],\n",
       "             1577: [1760],\n",
       "             1579: [1762],\n",
       "             1582: [1763, 1764],\n",
       "             1588: [1766, 1767, 1768],\n",
       "             1595: [1769, 1770, 1771],\n",
       "             1596: [1773],\n",
       "             1597: [1780, 1785, 1790],\n",
       "             1598: [1791, 1792],\n",
       "             1599: [1793, 1794],\n",
       "             1606: [1795, 1796, 1797, 1798],\n",
       "             1611: [1801, 1802, 1803, 1804, 1805, 1806, 1807],\n",
       "             1618: [1808, 1809, 1810],\n",
       "             1621: [1812, 1813],\n",
       "             1626: [1816, 1817],\n",
       "             1628: [1818, 1819],\n",
       "             1629: [1821, 1822, 1823],\n",
       "             1630: [1825, 1826, 1827],\n",
       "             1633: [1829],\n",
       "             1636: [1831, 1833, 1834],\n",
       "             1639: [1840, 1841],\n",
       "             1641: [1842],\n",
       "             1642: [1843, 1844],\n",
       "             1647: [1846],\n",
       "             1649: [1847, 1849],\n",
       "             1652: [1851, 1852, 1853, 1855],\n",
       "             1654: [1858, 1859],\n",
       "             1655: [1860, 1862, 1863, 1864, 1865],\n",
       "             1656: [1867, 1868],\n",
       "             1657: [1870],\n",
       "             1658: [1871],\n",
       "             1659: [1874],\n",
       "             1665: [1877],\n",
       "             1666: [1879],\n",
       "             1668: [1880, 1881, 1882],\n",
       "             1670: [1883],\n",
       "             1674: [1885],\n",
       "             1681: [1888, 1890],\n",
       "             1682: [1891, 1892, 1893],\n",
       "             1684: [1894, 1895, 1896, 1897, 1898, 1899],\n",
       "             1685: [1901, 1902, 1903],\n",
       "             1689: [1904, 1905, 1906],\n",
       "             1690: [1908],\n",
       "             1691: [1909],\n",
       "             1692: [1911, 1912, 1913, 1914, 1915, 1916],\n",
       "             1694: [1917, 1918, 1919],\n",
       "             1698: [1923],\n",
       "             1702: [1926, 1928],\n",
       "             1707: [1932, 1933, 1934],\n",
       "             1709: [1939],\n",
       "             1711: [1941, 1944],\n",
       "             1715: [1945],\n",
       "             1717: [1947],\n",
       "             1719: [1950, 1951, 1952, 1953],\n",
       "             1722: [1955, 1956, 1957],\n",
       "             1724: [1959, 1961],\n",
       "             1725: [1963, 1964],\n",
       "             1727: [1965],\n",
       "             1729: [1967, 1968, 1969, 1970, 1971],\n",
       "             1733: [1972, 1974],\n",
       "             1734: [1977],\n",
       "             1735: [1978],\n",
       "             1737: [1979, 1980],\n",
       "             1738: [1981, 1983],\n",
       "             1739: [1984, 1985],\n",
       "             1744: [1988, 1989],\n",
       "             1747: [1992, 1994, 1997, 1998],\n",
       "             1751: [2001, 2002, 2003],\n",
       "             1752: [2004, 2005, 2006, 2007, 2008, 2009],\n",
       "             1753: [2010, 2012, 2013, 2014],\n",
       "             1755: [2015, 2016, 2017, 2018],\n",
       "             1757: [2019],\n",
       "             1761: [2021, 2022, 2024, 2025, 2026, 2027],\n",
       "             1765: [2033],\n",
       "             1766: [2035],\n",
       "             1768: [2036, 2037, 2038],\n",
       "             1774: [2041],\n",
       "             1775: [2042, 2043, 2044],\n",
       "             1777: [2045],\n",
       "             1778: [2048, 2049],\n",
       "             1784: [2050, 2052],\n",
       "             1790: [2053, 2054],\n",
       "             1791: [2055, 2062, 2063],\n",
       "             1805: [2067],\n",
       "             1808: [2068],\n",
       "             1810: [2069, 2070],\n",
       "             1812: [2072, 2073],\n",
       "             1814: [2075, 2076],\n",
       "             1816: [2077, 2078],\n",
       "             1817: [2079, 2080],\n",
       "             1819: [2084, 2086],\n",
       "             1821: [2087],\n",
       "             1825: [2089, 2090, 2091],\n",
       "             1829: [2092, 2093],\n",
       "             1830: [2094],\n",
       "             1831: [2096],\n",
       "             1833: [2098, 2099],\n",
       "             1835: [2100, 2101],\n",
       "             1837: [2102],\n",
       "             1840: [2105, 2106, 2107],\n",
       "             1846: [2108, 2110],\n",
       "             1852: [2113, 2114, 2115],\n",
       "             1855: [2116, 2117, 2118],\n",
       "             1858: [2120],\n",
       "             1873: [2122, 2123, 2126],\n",
       "             1879: [2129],\n",
       "             1880: [2130, 2131],\n",
       "             1886: [2133, 2134],\n",
       "             1891: [2136, 2137],\n",
       "             1892: [2139, 2140, 2141, 2142],\n",
       "             1894: [2145, 2147],\n",
       "             1897: [2149, 2150],\n",
       "             1899: [2151, 2152, 2153],\n",
       "             1901: [2154, 2157],\n",
       "             1904: [2158],\n",
       "             1908: [2159, 2160, 2161, 2162],\n",
       "             1910: [2163, 2164],\n",
       "             1913: [2165],\n",
       "             1914: [2166],\n",
       "             1916: [2167, 2168, 2169],\n",
       "             1920: [2170],\n",
       "             1924: [2173],\n",
       "             1934: [2176, 2177],\n",
       "             1935: [2178, 2180],\n",
       "             1936: [2181],\n",
       "             1944: [2183, 2185, 2186],\n",
       "             1948: [2187],\n",
       "             1951: [2188, 2189],\n",
       "             1962: [2192],\n",
       "             1964: [2194, 2196, 2197, 2198],\n",
       "             1965: [2201],\n",
       "             1966: [2202],\n",
       "             1969: [2203, 2204],\n",
       "             1985: [2206, 2207, 2208, 2209],\n",
       "             1986: [2211, 2212, 2213, 2214],\n",
       "             1988: [2215, 2216],\n",
       "             1992: [2217, 2218],\n",
       "             1994: [2221],\n",
       "             2000: [2227, 2228],\n",
       "             2002: [2229, 2230],\n",
       "             2004: [2232, 2233],\n",
       "             2005: [2234],\n",
       "             2006: [2235],\n",
       "             2007: [2237],\n",
       "             2009: [2238, 2239],\n",
       "             2011: [2243],\n",
       "             2012: [2244, 2245, 2246],\n",
       "             2013: [2248, 2250, 2251],\n",
       "             2015: [2252],\n",
       "             2016: [2253, 2254],\n",
       "             2017: [2256],\n",
       "             2018: [2258, 2260],\n",
       "             2019: [2261, 2262],\n",
       "             2022: [2263, 2264],\n",
       "             2024: [2265],\n",
       "             2026: [2266, 2267],\n",
       "             2027: [2268, 2269],\n",
       "             2030: [2271, 2272],\n",
       "             2031: [2273, 2274],\n",
       "             2041: [2276],\n",
       "             2042: [2279, 2280],\n",
       "             2045: [2282, 2283],\n",
       "             2047: [2284, 2285, 2286, 2287],\n",
       "             2048: [2288, 2289, 2290, 2292],\n",
       "             2049: [2293, 2294],\n",
       "             2050: [2297, 2298],\n",
       "             2052: [2303, 2304],\n",
       "             2054: [2305, 2306, 2307],\n",
       "             2055: [2308, 2309],\n",
       "             2056: [2310, 2311, 2314],\n",
       "             2057: [2316, 2317, 2318],\n",
       "             2059: [2319],\n",
       "             2062: [2320],\n",
       "             2064: [2321],\n",
       "             2065: [2322, 2323, 2326],\n",
       "             2066: [2327, 2328],\n",
       "             2071: [2329],\n",
       "             2072: [2330, 2331],\n",
       "             2076: [2332, 2333, 2334],\n",
       "             2080: [2335, 2338],\n",
       "             2081: [2339],\n",
       "             2083: [2343],\n",
       "             2085: [2344, 2345],\n",
       "             2086: [2346],\n",
       "             2087: [2348, 2349],\n",
       "             2090: [2351],\n",
       "             2091: [2352],\n",
       "             2092: [2353, 2354, 2355],\n",
       "             2096: [2360],\n",
       "             2098: [2361, 2362],\n",
       "             2110: [2363],\n",
       "             2111: [2366, 2367, 2369],\n",
       "             2113: [2370, 2371],\n",
       "             2117: [2372],\n",
       "             2118: [2373, 2374, 2376, 2377],\n",
       "             2119: [2378],\n",
       "             2122: [2379, 2381],\n",
       "             2125: [2382],\n",
       "             2126: [2385, 2388],\n",
       "             2128: [2393],\n",
       "             2129: [2395, 2396],\n",
       "             2133: [2398],\n",
       "             2134: [2400],\n",
       "             2135: [2403, 2405],\n",
       "             2139: [2409, 2410],\n",
       "             2141: [2412, 2413],\n",
       "             2145: [2416, 2417],\n",
       "             2146: [2418],\n",
       "             2149: [2421, 2423],\n",
       "             2153: [2426, 2427, 2428],\n",
       "             2154: [2430],\n",
       "             2155: [2432],\n",
       "             2157: [2435],\n",
       "             2158: [2437],\n",
       "             2160: [2438, 2439],\n",
       "             2162: [2440],\n",
       "             2165: [2441, 2442],\n",
       "             2168: [2443, 2444, 2446],\n",
       "             2170: [2447],\n",
       "             2171: [2448, 2449, 2450, 2451, 2452, 2453],\n",
       "             2175: [2455],\n",
       "             2178: [2457],\n",
       "             2180: [2459, 2460],\n",
       "             2182: [2462],\n",
       "             2183: [2463],\n",
       "             2184: [2464, 2465],\n",
       "             2187: [2466, 2467, 2468],\n",
       "             2188: [2470, 2471],\n",
       "             2190: [2472, 2473, 2474],\n",
       "             2191: [2476, 2478],\n",
       "             2193: [2479, 2480, 2481],\n",
       "             2194: [2482, 2483, 2484],\n",
       "             2195: [2485, 2487, 2489, 2490, 2493, 2495],\n",
       "             2196: [2497],\n",
       "             2200: [2500, 2501],\n",
       "             2204: [2503, 2504],\n",
       "             2211: [2505, 2506, 2507],\n",
       "             2214: [2508, 2509, 2510, 2511, 2512, 2513],\n",
       "             2215: [2514],\n",
       "             2216: [2515, 2516, 2518],\n",
       "             2218: [2519],\n",
       "             2219: [2520],\n",
       "             2220: [2521, 2522],\n",
       "             2222: [2523, 2524],\n",
       "             2227: [2527],\n",
       "             2231: [2529, 2530],\n",
       "             2233: [2531, 2533],\n",
       "             2234: [2534],\n",
       "             2237: [2535, 2536],\n",
       "             2239: [2537, 2538],\n",
       "             2245: [2539, 2540],\n",
       "             2246: [2541, 2542, 2543, 2544],\n",
       "             2247: [2546],\n",
       "             2250: [2547],\n",
       "             2252: [2548, 2549, 2550, 2551, 2552],\n",
       "             2253: [2554],\n",
       "             2255: [2555, 2556],\n",
       "             2259: [2557, 2558, 2559],\n",
       "             2260: [2561],\n",
       "             2261: [2564],\n",
       "             2263: [2566, 2567],\n",
       "             2264: [2568],\n",
       "             2265: [2576],\n",
       "             2266: [2579, 2580, 2581],\n",
       "             2271: [2582],\n",
       "             2274: [2584],\n",
       "             2276: [2586],\n",
       "             2287: [2590, 2591, 2592],\n",
       "             2288: [2595, 2596, 2597],\n",
       "             2292: [2598, 2599, 2600],\n",
       "             2296: [2601, 2602, 2603, 2604, 2605],\n",
       "             2297: [2608],\n",
       "             2298: [2610, 2611, 2612, 2613],\n",
       "             2300: [2614],\n",
       "             2301: [2615],\n",
       "             2302: [2616, 2617, 2618],\n",
       "             2303: [2621, 2622],\n",
       "             2305: [2624],\n",
       "             2306: [2625, 2626],\n",
       "             2307: [2630],\n",
       "             2310: [2632, 2633],\n",
       "             2311: [2637, 2638],\n",
       "             2312: [2640, 2642],\n",
       "             2313: [2643, 2644],\n",
       "             2318: [2645, 2646, 2647],\n",
       "             2320: [2649],\n",
       "             2323: [2650, 2651],\n",
       "             2326: [2653, 2654],\n",
       "             2329: [2656, 2657, 2658],\n",
       "             2334: [2661, 2662],\n",
       "             2336: [2664, 2665],\n",
       "             2338: [2666, 2668, 2670],\n",
       "             2339: [2671],\n",
       "             2345: [2672, 2673],\n",
       "             2346: [2675, 2676],\n",
       "             2348: [2678, 2679],\n",
       "             2349: [2680],\n",
       "             2350: [2681],\n",
       "             2361: [2686, 2687],\n",
       "             2362: [2688, 2689, 2690],\n",
       "             2365: [2691],\n",
       "             2366: [2692, 2693],\n",
       "             2369: [2696],\n",
       "             2370: [2698, 2699, 2700],\n",
       "             2376: [2701, 2702],\n",
       "             2379: [2703, 2704],\n",
       "             2380: [2706, 2707, 2708],\n",
       "             2383: [2709, 2710],\n",
       "             2385: [2711],\n",
       "             2396: [2715, 2716, 2717, 2718],\n",
       "             2397: [2719, 2720],\n",
       "             2401: [2721, 2722],\n",
       "             2402: [2723, 2725],\n",
       "             2406: [2730],\n",
       "             2408: [2731, 2732, 2733, 2734, 2737, 2738, 2739],\n",
       "             2410: [2740],\n",
       "             2412: [2741, 2742, 2743, 2745],\n",
       "             2421: [2747, 2748, 2749, 2750, 2751],\n",
       "             2422: [2753, 2754],\n",
       "             2425: [2756, 2757, 2758],\n",
       "             2426: [2759, 2760, 2761],\n",
       "             2429: [2763, 2764],\n",
       "             2430: [2765],\n",
       "             2433: [2769, 2770],\n",
       "             2437: [2771, 2772],\n",
       "             2439: [2775, 2776, 2777],\n",
       "             2440: [2778],\n",
       "             2447: [2781],\n",
       "             2448: [2782],\n",
       "             2449: [2783],\n",
       "             2452: [2786, 2787],\n",
       "             2456: [2788],\n",
       "             2457: [2789, 2790],\n",
       "             2461: [2791, 2792],\n",
       "             2463: [2797, 2798],\n",
       "             2469: [2799],\n",
       "             2472: [2801],\n",
       "             2473: [2803, 2804],\n",
       "             2474: [2806, 2807, 2808, 2809],\n",
       "             2475: [2810, 2812, 2813, 2814, 2815],\n",
       "             2476: [2816, 2818],\n",
       "             2478: [2819, 2820],\n",
       "             2479: [2822, 2823],\n",
       "             2486: [2824, 2825],\n",
       "             2490: [2826, 2827],\n",
       "             2492: [2829],\n",
       "             2494: [2830, 2831],\n",
       "             2495: [2832, 2833],\n",
       "             2500: [2834],\n",
       "             2503: [2835],\n",
       "             2506: [2837, 2838, 2839],\n",
       "             2507: [2840],\n",
       "             2514: [2843, 2844],\n",
       "             2519: [2848],\n",
       "             2520: [2851, 2852],\n",
       "             2525: [2853, 2854, 2855, 2856],\n",
       "             2527: [2857, 2859],\n",
       "             2530: [2860, 2861],\n",
       "             2538: [2864, 2865, 2866],\n",
       "             2539: [2867],\n",
       "             2545: [2869, 2870, 2871, 2872],\n",
       "             2550: [2874],\n",
       "             2551: [2876, 2877],\n",
       "             2553: [2880, 2881, 2882],\n",
       "             2554: [2883, 2884],\n",
       "             2560: [2887, 2888],\n",
       "             2561: [2889],\n",
       "             2564: [2891],\n",
       "             2565: [2894, 2896],\n",
       "             2568: [2898, 2899, 2900, 2901],\n",
       "             2570: [2902, 2903, 2904],\n",
       "             2571: [2906, 2908],\n",
       "             2588: [2911, 2912],\n",
       "             2596: [2913, 2914],\n",
       "             2601: [2917, 2918],\n",
       "             2604: [2919, 2920, 2921],\n",
       "             2605: [2923, 2925, 2926],\n",
       "             2608: [2928, 2929],\n",
       "             2609: [2930, 2931, 2932],\n",
       "             2612: [2934, 2935, 2936],\n",
       "             2613: [2937, 2939, 2941],\n",
       "             2616: [2942, 2943],\n",
       "             2617: [2944],\n",
       "             2618: [2946],\n",
       "             2621: [2949],\n",
       "             2623: [2953],\n",
       "             2624: [2956, 2957, 2958, 2960, 2961],\n",
       "             2640: [2968, 2969],\n",
       "             2641: [2971],\n",
       "             2642: [2974, 2975, 2976],\n",
       "             2643: [2977, 2980, 2981, 2983],\n",
       "             2645: [2984, 2985],\n",
       "             2648: [2986, 2987, 2988, 2989],\n",
       "             2654: [2990, 2991, 2992],\n",
       "             2655: [2993],\n",
       "             2658: [2996, 2998],\n",
       "             2660: [3001],\n",
       "             2666: [3004, 3005, 3006, 3007, 3008],\n",
       "             2667: [3009, 3010, 3011],\n",
       "             2671: [3012],\n",
       "             2675: [3013, 3014, 3015],\n",
       "             2677: [3016],\n",
       "             2678: [3017, 3018, 3019, 3020, 3021, 3022, 3023],\n",
       "             2679: [3027, 3028, 3029, 3030],\n",
       "             2680: [3031, 3032, 3033],\n",
       "             2682: [3035],\n",
       "             2684: [3037],\n",
       "             2688: [3042, 3043],\n",
       "             2697: [3045],\n",
       "             2698: [3047, 3048],\n",
       "             2702: [3050, 3051],\n",
       "             2704: [3053, 3054],\n",
       "             2706: [3056, 3057],\n",
       "             2707: [3058, 3060],\n",
       "             2709: [3061, 3062],\n",
       "             2710: [3065],\n",
       "             2715: [3066],\n",
       "             2719: [3068, 3069, 3070],\n",
       "             2721: [3072, 3073, 3074],\n",
       "             2725: [3075, 3076, 3077],\n",
       "             2727: [3078, 3079],\n",
       "             2730: [3080, 3083, 3084],\n",
       "             2732: [3085, 3086, 3089, 3090, 3091],\n",
       "             2733: [3092, 3093],\n",
       "             2734: [3094],\n",
       "             2741: [3098, 3100, 3101, 3102],\n",
       "             2745: [3105, 3106, 3107, 3108],\n",
       "             ...})"
      ]
     },
     "execution_count": 51,
     "metadata": {},
     "output_type": "execute_result"
    }
   ],
   "source": [
    "# Solution goes here\n",
    "preg_map"
   ]
  },
  {
   "cell_type": "code",
   "execution_count": 60,
   "metadata": {},
   "outputs": [
    {
     "name": "stdout",
     "output_type": "stream",
     "text": [
      "Mean: -0.0563674321503\n"
     ]
    },
    {
     "data": {
      "image/png": "[encoded data removed]",
      "text/plain": [
       "<matplotlib.figure.Figure at 0x1269f9748>"
      ]
     },
     "metadata": {},
     "output_type": "display_data"
    }
   ],
   "source": [
    "# Solution goes here\n",
    "hist = thinkstats2.Hist()\n",
    "\n",
    "for caseid, babies in preg_map.items():\n",
    "    if len(babies) > 1:\n",
    "        siblings = preg.loc[babies[0:2]].prglngth\n",
    "        diff = np.diff(siblings)[0]\n",
    "        hist[diff] +=1\n",
    "\n",
    "thinkplot.Hist(hist)\n",
    "\n",
    "pmf = thinkstats2.Pmf(hist)\n",
    "print('Mean:',pmf.Mean())"
   ]
  },
  {
   "cell_type": "markdown",
   "metadata": {},
   "source": [
    "**Exercise:** In most foot races, everyone starts at the same time. If you are a fast runner, you usually pass a lot of people at the beginning of the race, but after a few miles everyone around you is going at the same speed.\n",
    "When I ran a long-distance (209 miles) relay race for the first time, I noticed an odd phenomenon: when I overtook another runner, I was usually much faster, and when another runner overtook me, he was usually much faster.\n",
    "\n",
    "At first I thought that the distribution of speeds might be bimodal; that is, there were many slow runners and many fast runners, but few at my speed.\n",
    "\n",
    "Then I realized that I was the victim of a bias similar to the effect of class size. The race was unusual in two ways: it used a staggered start, so teams started at different times; also, many teams included runners at different levels of ability.\n",
    "\n",
    "As a result, runners were spread out along the course with little relationship between speed and location. When I joined the race, the runners near me were (pretty much) a random sample of the runners in the race.\n",
    "\n",
    "So where does the bias come from? During my time on the course, the chance of overtaking a runner, or being overtaken, is proportional to the difference in our speeds. I am more likely to catch a slow runner, and more likely to be caught by a fast runner. But runners at the same speed are unlikely to see each other.\n",
    "\n",
    "Write a function called `ObservedPmf` that takes a `Pmf` representing the actual distribution of runners’ speeds, and the speed of a running observer, and returns a new `Pmf` representing the distribution of runners’ speeds as seen by the observer.\n",
    "\n",
    "To test your function, you can use `relay.py`, which reads the results from the James Joyce Ramble 10K in Dedham MA and converts the pace of each runner to mph.\n",
    "\n",
    "Compute the distribution of speeds you would observe if you ran a relay race at 7 mph with this group of runners."
   ]
  },
  {
   "cell_type": "code",
   "execution_count": 72,
   "metadata": {},
   "outputs": [],
   "source": [
    "import relay\n",
    "\n",
    "results = relay.ReadResults()\n",
    "speeds = relay.GetSpeeds(results)\n",
    "speeds = relay.BinData(speeds, 3, 12, 100)"
   ]
  },
  {
   "cell_type": "code",
   "execution_count": 73,
   "metadata": {},
   "outputs": [
    {
     "data": {
      "image/png": "[encoded data removed]",
      "text/plain": [
       "<matplotlib.figure.Figure at 0x126b54e10>"
      ]
     },
     "metadata": {},
     "output_type": "display_data"
    }
   ],
   "source": [
    "pmf = thinkstats2.Pmf(speeds, 'actual speeds')\n",
    "thinkplot.Pmf(pmf)\n",
    "thinkplot.Config(xlabel='Speed (mph)', ylabel='PMF')"
   ]
  },
  {
   "cell_type": "code",
   "execution_count": 82,
   "metadata": {},
   "outputs": [
    {
     "data": {
      "image/png": "[encoded data removed]",
      "text/plain": [
       "<matplotlib.figure.Figure at 0x11e380898>"
      ]
     },
     "metadata": {},
     "output_type": "display_data"
    }
   ],
   "source": [
    "# Solution goes here\n",
    "def ObservedPmf(speed, pmf, label):\n",
    "    new_pmf = pmf.Copy(label=label)\n",
    "    \n",
    "    for x in pmf.Values():\n",
    "        new_pmf.Mult(x, abs(x-speed))\n",
    "        \n",
    "    new_pmf.Normalize()\n",
    "    return new_pmf\n",
    "\n",
    "biased_pmf = ObservedPmf(7, pmf, label='observed')\n",
    "thinkplot.Pmf(biased_pmf)\n",
    "thinkplot.Config(xlabel='Speed (mph)', ylabel='Biased PMF')"
   ]
  },
  {
   "cell_type": "code",
   "execution_count": 51,
   "metadata": {},
   "outputs": [],
   "source": [
    "# Solution goes here"
   ]
  },
  {
   "cell_type": "code",
   "execution_count": null,
   "metadata": {
    "collapsed": true
   },
   "outputs": [],
   "source": []
  }
 ],
 "metadata": {
  "kernelspec": {
   "display_name": "Python 3",
   "language": "python",
   "name": "python3"
  },
  "language_info": {
   "codemirror_mode": {
    "name": "ipython",
    "version": 3
   },
   "file_extension": ".py",
   "mimetype": "text/x-python",
   "name": "python",
   "nbconvert_exporter": "python",
   "pygments_lexer": "ipython3",
   "version": "3.6.1"
  }
 },
 "nbformat": 4,
 "nbformat_minor": 1
}
